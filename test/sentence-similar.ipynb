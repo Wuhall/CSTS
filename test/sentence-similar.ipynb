{
 "cells": [
  {
   "cell_type": "code",
   "execution_count": 1,
   "metadata": {},
   "outputs": [
    {
     "data": {
      "application/vnd.jupyter.widget-view+json": {
       "model_id": "68606127af37429c91bb9b1c1684b762",
       "version_major": 2,
       "version_minor": 0
      },
      "text/plain": [
       "Fetching 30 files:   0%|          | 0/30 [00:00<?, ?it/s]"
      ]
     },
     "metadata": {},
     "output_type": "display_data"
    },
    {
     "name": "stdout",
     "output_type": "stream",
     "text": [
      "Loaded 500 sentence pairs!\n",
      "\n",
      "====正例/原始 matched 句子对中各项分数超阈值（总数：500）====\n",
      "colbert > 0.7             : 414\n",
      "sparse  > 0.2             : 311\n",
      "dense   > 0.7             : 428\n",
      "sparse+dense > 0.7        : 139\n",
      "colbert+sparse+dense >0.7 : 298\n",
      "\n",
      "====负例/A列+B列打乱 句子对中各项分数超阈值（总数：500）====\n",
      "colbert > 0.7             : 0\n",
      "sparse  > 0.2             : 0\n",
      "dense   > 0.7             : 0\n",
      "sparse+dense > 0.7        : 0\n",
      "colbert+sparse+dense >0.7 : 0\n"
     ]
    }
   ],
   "source": [
    "from FlagEmbedding import BGEM3FlagModel\n",
    "import random\n",
    "\n",
    "model = BGEM3FlagModel('BAAI/bge-m3', use_fp16=True)\n",
    "\n",
    "data_file = '/Users/lucas/Downloads/paraphrase_unorder'\n",
    "sentence_pairs = []\n",
    "\n",
    "with open(data_file, 'r', encoding='utf-8') as f:\n",
    "    for idx, line in enumerate(f):\n",
    "        if idx >= 500: break\n",
    "        splits = line.rstrip('\\n').split('\\t')\n",
    "        if len(splits) == 2 and splits[0].strip() and splits[1].strip():\n",
    "            sentence_pairs.append([splits[0].strip(), splits[1].strip()])\n",
    "\n",
    "print(f\"Loaded {len(sentence_pairs)} sentence pairs!\")\n",
    "\n",
    "# ==========1. 正例部分，原始句对=========\n",
    "def run_and_stat(sentence_pairs, title):\n",
    "    batch_size = 64\n",
    "    all_scores = []\n",
    "\n",
    "    for batch_start in range(0, len(sentence_pairs), batch_size):\n",
    "        batch_pairs = sentence_pairs[batch_start:batch_start + batch_size]\n",
    "        # 指定权重\n",
    "        scores = model.compute_score(\n",
    "            batch_pairs, max_passage_length=128,\n",
    "            weights_for_different_modes=[0.4, 0.2, 0.4]\n",
    "        )\n",
    "        if isinstance(scores, list):\n",
    "            all_scores.extend(scores)\n",
    "        else:\n",
    "            all_scores.append(scores)\n",
    "\n",
    "    count_colbert = 0\n",
    "    count_sparse = 0\n",
    "    count_dense = 0\n",
    "    count_sparse_dense = 0\n",
    "    count_all = 0\n",
    "    total_samples = 0\n",
    "\n",
    "    for batch_scores in all_scores:\n",
    "        n = len(batch_scores['colbert'])\n",
    "        for i in range(n):\n",
    "            if batch_scores['colbert'][i] > 0.7:\n",
    "                count_colbert += 1\n",
    "            if batch_scores['sparse'][i] > 0.2:\n",
    "                count_sparse += 1\n",
    "            if batch_scores['dense'][i] > 0.7:\n",
    "                count_dense += 1\n",
    "            if batch_scores['sparse+dense'][i] > 0.7:\n",
    "                count_sparse_dense += 1\n",
    "            if batch_scores['colbert+sparse+dense'][i] > 0.7:\n",
    "                count_all += 1\n",
    "        total_samples += n\n",
    "\n",
    "    print(f\"\\n===={title} 句子对中各项分数超阈值（总数：{total_samples}）====\")\n",
    "    print(f\"colbert > 0.7             : {count_colbert}\")\n",
    "    print(f\"sparse  > 0.2             : {count_sparse}\")\n",
    "    print(f\"dense   > 0.7             : {count_dense}\")\n",
    "    print(f\"sparse+dense > 0.7        : {count_sparse_dense}\")\n",
    "    print(f\"colbert+sparse+dense >0.7 : {count_all}\")\n",
    "\n",
    "# 正例\n",
    "run_and_stat(sentence_pairs, \"正例/原始 matched\")\n",
    "\n",
    "# ==========2. 负例部分，A列+B列打乱配对=========\n",
    "\n",
    "# 保持A列顺序，随机打乱B列配对，若i==j则再打乱一次避免正例混入\n",
    "A, B = zip(*sentence_pairs)\n",
    "B_shuffled = list(B)\n",
    "while True:\n",
    "    random.shuffle(B_shuffled)\n",
    "    # check无一位匹配原来（防止正例漏入负例）\n",
    "    if all(B_shuffled[i]!=B[i] for i in range(len(B))):\n",
    "        break\n",
    "\n",
    "neg_pairs = [[A[i], B_shuffled[i]] for i in range(len(A))]\n",
    "\n",
    "# 负例\n",
    "run_and_stat(neg_pairs, \"负例/A列+B列打乱\")"
   ]
  }
 ],
 "metadata": {
  "kernelspec": {
   "display_name": "text-cls",
   "language": "python",
   "name": "python3"
  },
  "language_info": {
   "codemirror_mode": {
    "name": "ipython",
    "version": 3
   },
   "file_extension": ".py",
   "mimetype": "text/x-python",
   "name": "python",
   "nbconvert_exporter": "python",
   "pygments_lexer": "ipython3",
   "version": "3.9.21"
  }
 },
 "nbformat": 4,
 "nbformat_minor": 2
}
